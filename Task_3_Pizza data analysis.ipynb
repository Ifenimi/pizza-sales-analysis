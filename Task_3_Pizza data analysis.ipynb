{
 "cells": [
  {
   "cell_type": "markdown",
   "id": "0bea2633",
   "metadata": {},
   "source": [
    "# TechCrush DataScience Task 3: Pizza Sales Data Analysis\n",
    "# Name: Oluwanisola Adedamola Daniel\n"
   ]
  },
  {
   "cell_type": "code",
   "execution_count": null,
   "id": "5ed69740",
   "metadata": {},
   "outputs": [],
   "source": [
    "# Import the necessary Libraries\n",
    "import pandas as pd\n",
    "import numpy as np\n",
    "import matplotlib.pyplot as plt\n",
    "import seaborn as sns\n",
    "\n",
    "#Display settings\n",
    "%matplotlib inline\n",
    "sns.set(style=\"whitegrid\")\n",
    "plt.rcParams[\"figure.figsize\"] = (12, 6)\n",
    "\n",
    "#Load the Datasets\n",
    "orders = pd.read_csv(\"pizza_sales/orders.csv\")\n",
    "order_details = pd.read_csv(\"pizza_sales/order_details.csv\")\n",
    "pizzas = pd.read_csv(\"pizza_sales/pizzas.csv\")\n",
    "pizza_types = pd.read_csv(\"pizza_sales/pizza_types.csv\")\n",
    "\n",
    "#Cleanup\n",
    "orders['date'] = pd.to_datetime(orders['date'])\n",
    "orders['time'] = pd.to_datetime(orders['time'], format='%H:%M:%S').dt.time\n",
    "pizza_types.rename(columns={'pizza_type_id': 'type_id'}, inplace=True)\n",
    "\n",
    "# Merge all the datasets\n",
    "df = order_details.merge(orders, on='order_id') \\\n",
    "                  .merge(pizzas, on='pizza_id') \\\n",
    "                  .merge(pizza_types, left_on='type_id', right_on='type_id')\n",
    "\n",
    "# Calculate Sales\n",
    "df['total_price'] = df['price'] * df['quantity']\n",
    "df['hour'] = pd.to_datetime(df['time'], format='%H:%M:%S').dt.hour\n",
    "df['weekday'] = df['date'].dt.day_name()\n",
    "df['month'] = df['date'].dt.month_name()\n"
   ]
  },
  {
   "cell_type": "markdown",
   "id": "114d76dc",
   "metadata": {},
   "source": [
    "# ANALYSIS"
   ]
  },
  {
   "cell_type": "code",
   "execution_count": null,
   "id": "c2f69e6b",
   "metadata": {},
   "outputs": [],
   "source": [
    " \n",
    "\n",
    "# 1 Total Revenue\n",
    "total_revenue = df['total_price'].sum()\n",
    "print(\"Total Revenue: $\", round(total_revenue, 2))"
   ]
  },
  {
   "cell_type": "markdown",
   "id": "f3b60742",
   "metadata": {},
   "source": [
    "Insight: The pizza business generated substantial revenue over the year, indicating strong demand and successful product pricing"
   ]
  },
  {
   "cell_type": "code",
   "execution_count": null,
   "id": "482f43e9",
   "metadata": {},
   "outputs": [],
   "source": [
    "# 2 Total Quantity Sold\n",
    "total_quantity = df['quantity'].sum()\n",
    "print(\"Total Quantity Sold:\", total_quantity)"
   ]
  },
  {
   "cell_type": "markdown",
   "id": "f8ff863c",
   "metadata": {},
   "source": [
    "Insight:A high volume of pizzas was sold. This reflects good product demand."
   ]
  },
  {
   "cell_type": "code",
   "execution_count": null,
   "id": "d43667f8",
   "metadata": {},
   "outputs": [],
   "source": [
    "# 3 Total Orders\n",
    "total_orders = df['order_id'].nunique()\n",
    "print(\"Total Unique Orders:\", total_orders)"
   ]
  },
  {
   "cell_type": "markdown",
   "id": "ac66147a",
   "metadata": {},
   "source": [
    "Insight: The number of unique orders reflects steady patronage, with indications that many customers order more than one pizza per visit."
   ]
  },
  {
   "cell_type": "code",
   "execution_count": null,
   "id": "3ca87cbc",
   "metadata": {},
   "outputs": [],
   "source": [
    "# 4 Unique Pizza Types\n",
    "unique_pizza_types = df['type_id'].nunique()\n",
    "print(\"Total Pizza Types:\", unique_pizza_types)"
   ]
  },
  {
   "cell_type": "markdown",
   "id": "3cd54dcf",
   "metadata": {},
   "source": [
    "Insight: There is a  broad variety of pizza types, which provides customers with a range of choices and may cater to diverse taste preferences."
   ]
  },
  {
   "cell_type": "code",
   "execution_count": null,
   "id": "e2de8c8f",
   "metadata": {},
   "outputs": [],
   "source": [
    "# 5 Average Pizza Price\n",
    "avg_price = df[['pizza_id', 'price']].drop_duplicates()['price'].mean()\n",
    "print(\"Average Pizza Price: $\", round(avg_price, 2))"
   ]
  },
  {
   "cell_type": "markdown",
   "id": "4b57215b",
   "metadata": {},
   "source": [
    "Insight: The average price of a pizza appears mid-range and it is affordable."
   ]
  },
  {
   "cell_type": "code",
   "execution_count": null,
   "id": "c5db9453",
   "metadata": {},
   "outputs": [],
   "source": [
    "# 6 Peak Hours of Sales\n",
    "df['hour'].value_counts().sort_index().plot(kind='bar', title='Sales by Hour')\n",
    "plt.xlabel(\"Hour of Day\")\n",
    "plt.ylabel(\"Number of Orders\")\n",
    "plt.show()"
   ]
  },
  {
   "cell_type": "markdown",
   "id": "75c114f4",
   "metadata": {},
   "source": [
    "Insight: Sales peak around launch and dinner time. This shows the necessity for timely production and staff availability during these hours."
   ]
  },
  {
   "cell_type": "markdown",
   "id": "4ae4a6b9",
   "metadata": {},
   "source": []
  },
  {
   "cell_type": "code",
   "execution_count": null,
   "id": "769070ad",
   "metadata": {},
   "outputs": [],
   "source": [
    "# 7 Sales Made Each Day of the Week\n",
    "sales_by_day = df.groupby('weekday')['total_price'].sum().sort_values(ascending=False)\n",
    "sales_by_day.plot(kind='bar', title='Sales by Weekday')\n",
    "plt.ylabel(\"Total Sales ($)\")\n",
    "plt.show()\n",
    "print(\"Top Day:\", sales_by_day.idxmax())"
   ]
  },
  {
   "cell_type": "markdown",
   "id": "84f24ed9",
   "metadata": {},
   "source": [
    "Friday records the highest sales, while Monday shows the lowest. This trend shows that the end-of-week days have more social gatherings and takeout orders."
   ]
  },
  {
   "cell_type": "code",
   "execution_count": null,
   "id": "306efde8",
   "metadata": {},
   "outputs": [],
   "source": [
    "# 8 Top 5 Bestselling Pizzas\n",
    "top5 = df.groupby('pizza_id')['quantity'].sum().sort_values(ascending=False).head(5)\n",
    "top5.plot(kind='bar', title='Top 5 Bestselling Pizzas')\n",
    "plt.ylabel(\"Total Quantity Sold\")\n",
    "plt.show()"
   ]
  },
  {
   "cell_type": "code",
   "execution_count": null,
   "id": "071b19f9",
   "metadata": {},
   "outputs": [],
   "source": [
    "# 9 Monthly Sales Trend\n",
    "monthly_sales = df.groupby('month')['total_price'].sum()\n",
    "monthly_sales = monthly_sales.loc[pd.date_range(start='2021-01-01', periods=12, freq='M').strftime('%B')]\n",
    "monthly_sales.plot(kind='line', marker='o', title='Monthly Sales Trend')\n",
    "plt.ylabel(\"Sales ($)\")\n",
    "plt.xticks(rotation=45)\n",
    "plt.show()"
   ]
  },
  {
   "cell_type": "markdown",
   "id": "d9387635",
   "metadata": {},
   "source": [
    "Insight: Sales went up in December and July, probably due to the holiday period."
   ]
  },
  {
   "cell_type": "code",
   "execution_count": null,
   "id": "75fcd630",
   "metadata": {},
   "outputs": [],
   "source": [
    "# 10 Yes there are pizza types that are not doing well on the menu\n",
    "bottom5 = df.groupby('pizza_id')['quantity'].sum().sort_values().head(5)\n",
    "bottom5.plot(kind='bar', title='Least Selling Pizzas')\n",
    "plt.ylabel(\"Total Quantity Sold\")\n",
    "plt.show()"
   ]
  },
  {
   "cell_type": "markdown",
   "id": "bcc3342b",
   "metadata": {},
   "source": [
    "Insight: Some pizza types consistently went lower in sales, which may warrant reviewing their ingredients, marketing visibility, or necessity on the menu."
   ]
  }
 ],
 "metadata": {
  "language_info": {
   "name": "python"
  }
 },
 "nbformat": 4,
 "nbformat_minor": 5
}
